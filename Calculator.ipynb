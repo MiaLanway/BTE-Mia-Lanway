{
  "nbformat": 4,
  "nbformat_minor": 0,
  "metadata": {
    "colab": {
      "provenance": [],
      "authorship_tag": "ABX9TyNkvUBMznSe8zAiJBHFRuMR",
      "include_colab_link": true
    },
    "kernelspec": {
      "name": "python3",
      "display_name": "Python 3"
    },
    "language_info": {
      "name": "python"
    }
  },
  "cells": [
    {
      "cell_type": "markdown",
      "metadata": {
        "id": "view-in-github",
        "colab_type": "text"
      },
      "source": [
        "<a href=\"https://colab.research.google.com/github/MiaLanway/BTE-Mia-Lanway/blob/main/Calculator.ipynb\" target=\"_parent\"><img src=\"https://colab.research.google.com/assets/colab-badge.svg\" alt=\"Open In Colab\"/></a>"
      ]
    },
    {
      "cell_type": "code",
      "execution_count": 12,
      "metadata": {
        "id": "_6u0dQAlBrwW",
        "colab": {
          "base_uri": "https://localhost:8080/"
        },
        "outputId": "e2c5227c-3f70-4f12-8b29-0f7ab38fb93d"
      },
      "outputs": [
        {
          "name": "stdout",
          "output_type": "stream",
          "text": [
            "Enter first number:8\n",
            "Enter second number:6\n",
            "Enter the operator:+\n",
            "result: 14.0\n",
            "Enter first number:0\n",
            "Enter second number:0\n",
            "Enter the operator:break\n"
          ]
        }
      ],
      "source": [
        "while True:\n",
        "    num1 = float(input(\"Enter first number:\"))\n",
        "    num2 = float(input(\"Enter second number:\"))\n",
        "    operator = input('Enter the operator:')\n",
        "\n",
        "    if operator == 'break':\n",
        "        break\n",
        "\n",
        "    if operator == \"+\":\n",
        "        answer = num1 + num2\n",
        "    elif operator == \"-\":\n",
        "        answer = num1 - num2\n",
        "    elif operator == \"*\":\n",
        "        answer = num1 * num2\n",
        "    elif operator == \"/\":\n",
        "        if num2 == 0:\n",
        "            print(\"Error: Cannot divide by zero!\")\n",
        "            continue\n",
        "        else:\n",
        "            answer = num1 / num2\n",
        "    elif operator == \"//\":\n",
        "        answer = num1 // num2\n",
        "    elif operator == \"**\":\n",
        "        answer = num1 ** num2\n",
        "    elif operator == \"%\":\n",
        "        answer = num1 % num2\n",
        "    else:\n",
        "        print('invalid operator:', operator)\n",
        "        continue\n",
        "\n",
        "    print('result:', answer)"
      ]
    }
  ]
}