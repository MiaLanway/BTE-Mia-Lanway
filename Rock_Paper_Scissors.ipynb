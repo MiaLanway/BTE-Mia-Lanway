{
  "nbformat": 4,
  "nbformat_minor": 0,
  "metadata": {
    "colab": {
      "provenance": [],
      "authorship_tag": "ABX9TyNUAozCOcB3nyT0bJFmt9cL",
      "include_colab_link": true
    },
    "kernelspec": {
      "name": "python3",
      "display_name": "Python 3"
    },
    "language_info": {
      "name": "python"
    }
  },
  "cells": [
    {
      "cell_type": "markdown",
      "metadata": {
        "id": "view-in-github",
        "colab_type": "text"
      },
      "source": [
        "<a href=\"https://colab.research.google.com/github/MiaLanway/BTE-Mia-Lanway/blob/main/Rock_Paper_Scissors.ipynb\" target=\"_parent\"><img src=\"https://colab.research.google.com/assets/colab-badge.svg\" alt=\"Open In Colab\"/></a>"
      ]
    },
    {
      "cell_type": "code",
      "execution_count": 7,
      "metadata": {
        "colab": {
          "base_uri": "https://localhost:8080/"
        },
        "id": "I8i5xSn_nnbJ",
        "outputId": "dcd1b8bc-cff9-456f-b85a-fbc5bf129838"
      },
      "outputs": [
        {
          "output_type": "stream",
          "name": "stdout",
          "text": [
            "enter your move(rock,paper,scissors): rock\n",
            "your move: rock\n",
            "computers move: scissors\n",
            "you win\n"
          ]
        }
      ],
      "source": [
        "import random\n",
        "\n",
        "player_pick = input(\"enter your move(rock,paper,scissors): \")\n",
        "computer_pick = random.choice ([\"rock\",\"paper\",\"scissors\"])\n",
        "\n",
        "print(f\"your move: {player_pick}\")\n",
        "print(f\"computers move: {computer_pick}\")\n",
        "\n",
        "if player_pick == computer_pick:\n",
        "  print(\"tie\")\n",
        "\n",
        "elif (\n",
        "    (player_pick == \"rock\" and computer_pick == \"scissors\") or\n",
        "    (player_pick == \"paper\" and computer_pick == \"rock\") or\n",
        "    (player_pick == \"scissors\" and computer_pick == \"paper\")\n",
        "):\n",
        "\n",
        "    print(\"you win\")\n",
        "\n",
        "else:\n",
        "    print(\"you lose\")\n",
        "\n",
        "\n",
        "\n"
      ]
    }
  ]
}