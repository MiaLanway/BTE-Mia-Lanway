{
  "nbformat": 4,
  "nbformat_minor": 0,
  "metadata": {
    "colab": {
      "provenance": [],
      "authorship_tag": "ABX9TyNP1n/G8BdiCtt24GIPrmXV",
      "include_colab_link": true
    },
    "kernelspec": {
      "name": "python3",
      "display_name": "Python 3"
    },
    "language_info": {
      "name": "python"
    }
  },
  "cells": [
    {
      "cell_type": "markdown",
      "metadata": {
        "id": "view-in-github",
        "colab_type": "text"
      },
      "source": [
        "<a href=\"https://colab.research.google.com/github/MiaLanway/BTE-Mia-Lanway/blob/main/Class_Mortgage.ipynb\" target=\"_parent\"><img src=\"https://colab.research.google.com/assets/colab-badge.svg\" alt=\"Open In Colab\"/></a>"
      ]
    },
    {
      "cell_type": "code",
      "execution_count": 30,
      "metadata": {
        "id": "_9_bPgeeVqrW",
        "colab": {
          "base_uri": "https://localhost:8080/"
        },
        "outputId": "db4932f8-0b2a-4e8d-f700-21aa5cfed093"
      },
      "outputs": [
        {
          "output_type": "stream",
          "name": "stdout",
          "text": [
            "Interest must be non-negative!\n",
            "Mortgage info:\n",
            " Initial loan amount: 100000 $\n",
            " Maturity term: 30 years\n",
            " Interest rate: 6%\n"
          ]
        }
      ],
      "source": [
        "class Mortgage:\n",
        "  def __init__(self, amount, maturity, interest,):\n",
        "    self.amount = amount\n",
        "    self.maturity = maturity\n",
        "    self.__interest = interest\n",
        "\n",
        "  def __str__(self):\n",
        "        return f'Mortgage info:\\n Initial loan amount: {self.amount} $\\n Maturity term: {self.maturity} years\\n Interest rate: {self.__interest}%'\n",
        "\n",
        "  def get_interest(self):\n",
        "      return self.__interest\n",
        "\n",
        "  def set_interest(self, newInterest):\n",
        "      if newInterest >=0:\n",
        "        self.__interst = newInterest\n",
        "      else:\n",
        "        print('Interest must be non-negative!')\n",
        "\n",
        "  def payment(self):\n",
        "    B = self.amount\n",
        "    r = self.__interest / 100\n",
        "    n = self.maturity * 12\n",
        "    return B * (r*(1+r)**n) / ((1+r)**n - 1)\n",
        "\n",
        "m = Mortgage(100000, 30, 6)\n",
        "\n",
        "\n",
        "m.set_interest(-5)\n",
        "m.get_interest()\n",
        "\n",
        "print(m)"
      ]
    }
  ]
}