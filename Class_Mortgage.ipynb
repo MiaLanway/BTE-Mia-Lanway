{
  "nbformat": 4,
  "nbformat_minor": 0,
  "metadata": {
    "colab": {
      "provenance": [],
      "authorship_tag": "ABX9TyMkqtgJ+GyCDxA/wQ110Gw4",
      "include_colab_link": true
    },
    "kernelspec": {
      "name": "python3",
      "display_name": "Python 3"
    },
    "language_info": {
      "name": "python"
    }
  },
  "cells": [
    {
      "cell_type": "markdown",
      "metadata": {
        "id": "view-in-github",
        "colab_type": "text"
      },
      "source": [
        "<a href=\"https://colab.research.google.com/github/MiaLanway/BTE-Mia-Lanway/blob/main/Class_Mortgage.ipynb\" target=\"_parent\"><img src=\"https://colab.research.google.com/assets/colab-badge.svg\" alt=\"Open In Colab\"/></a>"
      ]
    },
    {
      "cell_type": "code",
      "execution_count": 31,
      "metadata": {
        "id": "_9_bPgeeVqrW",
        "colab": {
          "base_uri": "https://localhost:8080/"
        },
        "outputId": "15161f04-c9f0-4f41-b7c9-a4b064393749"
      },
      "outputs": [
        {
          "output_type": "stream",
          "name": "stdout",
          "text": [
            "Interest must be non-negative!\n"
          ]
        },
        {
          "output_type": "execute_result",
          "data": {
            "text/plain": [
              "6"
            ]
          },
          "metadata": {},
          "execution_count": 31
        }
      ],
      "source": [
        "class Mortgage:\n",
        "  def __init__(self, amount, maturity, interest,):\n",
        "    self.amount = amount\n",
        "    self.maturity = maturity\n",
        "    self.__interest = interest\n",
        "\n",
        "  def __str__(self):\n",
        "        return f'Mortgage info:\\n Initial loan amount: {self.amount} $\\n Maturity term: {self.maturity} years\\n Interest rate: {self.__interest}%'\n",
        "\n",
        "  def get_interest(self):\n",
        "      return self.__interest\n",
        "\n",
        "  def set_interest(self, newInterest):\n",
        "      if newInterest >=0:\n",
        "        self.__interst = newInterest\n",
        "      else:\n",
        "        print('Interest must be non-negative!')\n",
        "\n",
        "  def payment(self):\n",
        "    B = self.amount\n",
        "    r = self.__interest / 100\n",
        "    n = self.maturity * 12\n",
        "    return B * (r*(1+r)**n) / ((1+r)**n - 1)\n",
        "\n",
        "m = Mortgage(100000, 30, 6)\n",
        "\n",
        "\n",
        "m.set_interest(-5)\n",
        "m.get_interest()\n"
      ]
    },
    {
      "cell_type": "code",
      "source": [
        "print(m)"
      ],
      "metadata": {
        "colab": {
          "base_uri": "https://localhost:8080/"
        },
        "id": "-e6Jfd8Ybw8W",
        "outputId": "83b172f5-111a-4724-be6b-af4a8dcd4090"
      },
      "execution_count": 32,
      "outputs": [
        {
          "output_type": "stream",
          "name": "stdout",
          "text": [
            "Mortgage info:\n",
            " Initial loan amount: 100000 $\n",
            " Maturity term: 30 years\n",
            " Interest rate: 6%\n"
          ]
        }
      ]
    }
  ]
}