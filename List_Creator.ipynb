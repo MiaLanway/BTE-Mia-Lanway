{
  "nbformat": 4,
  "nbformat_minor": 0,
  "metadata": {
    "colab": {
      "provenance": [],
      "authorship_tag": "ABX9TyOMVvTjhD6ROgB/5lWO47kq",
      "include_colab_link": true
    },
    "kernelspec": {
      "name": "python3",
      "display_name": "Python 3"
    },
    "language_info": {
      "name": "python"
    }
  },
  "cells": [
    {
      "cell_type": "markdown",
      "metadata": {
        "id": "view-in-github",
        "colab_type": "text"
      },
      "source": [
        "<a href=\"https://colab.research.google.com/github/MiaLanway/BTE-Mia-Lanway/blob/main/List_Creator.ipynb\" target=\"_parent\"><img src=\"https://colab.research.google.com/assets/colab-badge.svg\" alt=\"Open In Colab\"/></a>"
      ]
    },
    {
      "cell_type": "code",
      "execution_count": 4,
      "metadata": {
        "id": "FV9u--EPry14",
        "colab": {
          "base_uri": "https://localhost:8080/"
        },
        "outputId": "a84118c7-3f88-4a2b-c1cf-74aaa2f8dffe"
      },
      "outputs": [
        {
          "name": "stdout",
          "output_type": "stream",
          "text": [
            "Enter a value: 5\n",
            "Enter a value: 3\n",
            "Enter a value: 6\n",
            "Enter a value: 0\n"
          ]
        },
        {
          "output_type": "execute_result",
          "data": {
            "text/plain": [
              "[5, 3, 6]"
            ]
          },
          "metadata": {},
          "execution_count": 4
        }
      ],
      "source": [
        "L = []\n",
        "\n",
        "number = int(input('Enter a value: '))\n",
        "\n",
        "while number != 0:\n",
        "  L.append(number)\n",
        "  number = int(input('Enter a value: '))\n",
        "L\n"
      ]
    }
  ]
}