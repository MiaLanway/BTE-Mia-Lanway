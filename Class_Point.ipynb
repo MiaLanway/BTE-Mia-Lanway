{
  "nbformat": 4,
  "nbformat_minor": 0,
  "metadata": {
    "colab": {
      "provenance": [],
      "authorship_tag": "ABX9TyOR51SUe4JBRzmc6L91IFjR",
      "include_colab_link": true
    },
    "kernelspec": {
      "name": "python3",
      "display_name": "Python 3"
    },
    "language_info": {
      "name": "python"
    }
  },
  "cells": [
    {
      "cell_type": "markdown",
      "metadata": {
        "id": "view-in-github",
        "colab_type": "text"
      },
      "source": [
        "<a href=\"https://colab.research.google.com/github/MiaLanway/BTE-Mia-Lanway/blob/main/Class_Point.ipynb\" target=\"_parent\"><img src=\"https://colab.research.google.com/assets/colab-badge.svg\" alt=\"Open In Colab\"/></a>"
      ]
    },
    {
      "cell_type": "code",
      "execution_count": 4,
      "metadata": {
        "id": "4YnX8PYKg5Ym",
        "colab": {
          "base_uri": "https://localhost:8080/"
        },
        "outputId": "91ee0cd8-9b00-42c3-b4da-fed44bdaeb1b"
      },
      "outputs": [
        {
          "output_type": "stream",
          "name": "stdout",
          "text": [
            "Distance between p1 and p2 in 2D: 2.83\n",
            "Distance between p3 and p4 in 3D: 7.81\n"
          ]
        }
      ],
      "source": [
        "class Point:\n",
        "  def __init__(self, x, y):\n",
        "    self.x = x\n",
        "    self.y = y\n",
        "  def distance(self, other):\n",
        "    x_diff = (self.x - other.x) ** 2\n",
        "    y_diff = (self.y - other.y) ** 2\n",
        "    return (x_diff + y_diff) ** 0.5\n",
        "\n",
        "class Point3D(Point):\n",
        "  def __init__(self, x, y, z):\n",
        "    super().__init__(x, y)\n",
        "    self.z = z\n",
        "  def distance(self, other):\n",
        "    x_diff = (self.x - other.x) ** 2\n",
        "    y_diff = (self.y - other.y) ** 2\n",
        "    z_diff = (self.z - other.z) ** 2\n",
        "    return (x_diff + y_diff + z_diff) ** 0.5\n",
        "\n",
        "p1 = Point(3,4)\n",
        "p2 = Point(1, 6)\n",
        "p3 = Point3D(1, 2, 3)\n",
        "p4 = Point3D(4, 6, 9)\n",
        "\n",
        "distance_2d = p1.distance(p2)\n",
        "distance_3d = p3.distance(p4)\n",
        "\n",
        "print(f\"Distance between p1 and p2 in 2D: {distance_2d:.2f}\")\n",
        "print(f\"Distance between p3 and p4 in 3D: {distance_3d:.2f}\")"
      ]
    }
  ]
}