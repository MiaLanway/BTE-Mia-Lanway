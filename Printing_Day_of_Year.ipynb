{
  "nbformat": 4,
  "nbformat_minor": 0,
  "metadata": {
    "colab": {
      "provenance": [],
      "authorship_tag": "ABX9TyMX3De9qZar67tQKijDvXpx",
      "include_colab_link": true
    },
    "kernelspec": {
      "name": "python3",
      "display_name": "Python 3"
    },
    "language_info": {
      "name": "python"
    }
  },
  "cells": [
    {
      "cell_type": "markdown",
      "metadata": {
        "id": "view-in-github",
        "colab_type": "text"
      },
      "source": [
        "<a href=\"https://colab.research.google.com/github/MiaLanway/BTE-Mia-Lanway/blob/main/Printing_Day_of_Year.ipynb\" target=\"_parent\"><img src=\"https://colab.research.google.com/assets/colab-badge.svg\" alt=\"Open In Colab\"/></a>"
      ]
    },
    {
      "cell_type": "code",
      "execution_count": 6,
      "metadata": {
        "colab": {
          "base_uri": "https://localhost:8080/"
        },
        "id": "UAkSA2DKNPuA",
        "outputId": "4978cb72-6208-4db8-99c5-f49e68cc6bdd"
      },
      "outputs": [
        {
          "output_type": "stream",
          "name": "stdout",
          "text": [
            "Enter date in format MM/DD/YYYY12/15/2003\n",
            "12\n",
            "15\n",
            "2003\n"
          ]
        }
      ],
      "source": [
        "input_date = input(\"Enter date in format MM/DD/YYYY\")\n",
        "month = input_date[ :2]\n",
        "print(month)\n",
        "day = input_date[3:5]\n",
        "print(day)\n",
        "year = input_date[6: ]\n",
        "print(year)"
      ]
    }
  ]
}